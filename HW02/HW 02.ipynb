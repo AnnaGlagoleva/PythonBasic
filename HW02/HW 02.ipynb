{
 "cells": [
  {
   "cell_type": "code",
   "execution_count": 36,
   "metadata": {},
   "outputs": [
    {
     "name": "stdout",
     "output_type": "stream",
     "text": [
      "[9, 28, 13, 25, 7, 27, 15, 23, 24, 40, 39, 36, 37, 19, 30, 17, 5, 8, 6, 33, 34, 14, 12, 20, 32, 21]\n"
     ]
    }
   ],
   "source": [
    "# 1 переложить m_1, m_2, m_3, m_4 в result только уникальные через цикл for\n",
    "\n",
    "m_1 = [9, 28, 13, 25, 7, 27, 15, 23, 24, 40]\n",
    "m_2 = [39, 27, 36, 37, 19, 30, 23, 17, 25, 28]\n",
    "m_3 = [37, 5, 9, 8, 6, 33, 34, 28, 14, 12]\n",
    "m_4 = [8, 23, 12, 20, 32, 15, 21, 12, 8, 33]\n",
    "result = []\n",
    "\n",
    "for i in [m_1, m_2, m_3, m_4]:\n",
    "    for j in i:\n",
    "        if j not in result: \n",
    "            result.append(j)\n",
    "\n",
    "print(result)"
   ]
  },
  {
   "cell_type": "code",
   "execution_count": 37,
   "metadata": {},
   "outputs": [
    {
     "name": "stdout",
     "output_type": "stream",
     "text": [
      "[9, 28, 13, 25, 7, 27, 15, 23, 24, 40, 39, 36, 37, 19, 30, 17, 5, 8, 6, 33, 34, 14, 12, 20, 32, 21]\n"
     ]
    }
   ],
   "source": [
    "# 2 переложить m_1, m_2, m_3, m_4 в result только уникальные через цикл while\n",
    "m_1 = [9, 28, 13, 25, 7, 27, 15, 23, 24, 40]\n",
    "m_2 = [39, 27, 36, 37, 19, 30, 23, 17, 25, 28]\n",
    "m_3 = [37, 5, 9, 8, 6, 33, 34, 28, 14, 12]\n",
    "m_4 = [8, 23, 12, 20, 32, 15, 21, 12, 8, 33]\n",
    "result = []\n",
    "\n",
    "a = []\n",
    "a.extend(m_1)\n",
    "a.extend(m_2)\n",
    "a.extend(m_3)\n",
    "a.extend(m_4)\n",
    "\n",
    "i = 0 \n",
    "\n",
    "while i < len(a):\n",
    "    if a[i] not in result:\n",
    "        result.append(a[i])\n",
    "    i += 1\n",
    "print(result)"
   ]
  },
  {
   "cell_type": "code",
   "execution_count": 38,
   "metadata": {},
   "outputs": [
    {
     "name": "stdout",
     "output_type": "stream",
     "text": [
      "[28, 24, 40, 36, 30, 8, 6, 34, 14, 12, 20, 32]\n"
     ]
    }
   ],
   "source": [
    "#3 переложить m_1, m_2, m_3, m_4 в result только четные уникальные\n",
    "\n",
    "m_1 = [9, 28, 13, 25, 7, 27, 15, 23, 24, 40]\n",
    "m_2 = [39, 27, 36, 37, 19, 30, 23, 17, 25, 28]\n",
    "m_3 = [37, 5, 9, 8, 6, 33, 34, 28, 14, 12]\n",
    "m_4 = [8, 23, 12, 20, 32, 15, 21, 12, 8, 33]\n",
    "result = []\n",
    "\n",
    "for i in [m_1, m_2, m_3, m_4]:\n",
    "    for j in i:\n",
    "        if j not in result:\n",
    "            if j % 2 == 0:\n",
    "                result.append(j)\n",
    "\n",
    "print(result)"
   ]
  },
  {
   "cell_type": "code",
   "execution_count": 39,
   "metadata": {},
   "outputs": [
    {
     "name": "stdout",
     "output_type": "stream",
     "text": [
      "[9, 13, 25, 7, 27, 15, 23, 39, 37, 19, 17, 5, 33, 21]\n"
     ]
    }
   ],
   "source": [
    "#переложить из m_1, m_2, m_3, m_4 в result через цикл for только нечетные уникальные\n",
    "\n",
    "m_1 = [9, 28, 13, 25, 7, 27, 15, 23, 24, 40]\n",
    "m_2 = [39, 27, 36, 37, 19, 30, 23, 17, 25, 28]\n",
    "m_3 = [37, 5, 9, 8, 6, 33, 34, 28, 14, 12]\n",
    "m_4 = [8, 23, 12, 20, 32, 15, 21, 12, 8, 33]\n",
    "result = []\n",
    "\n",
    "for i in [m_1, m_2, m_3, m_4]:\n",
    "    for j in i:\n",
    "        if j not in result:\n",
    "            if j % 2 != 0:\n",
    "                result.append(j)\n",
    "\n",
    "print(result)"
   ]
  },
  {
   "cell_type": "code",
   "execution_count": 40,
   "metadata": {},
   "outputs": [
    {
     "name": "stdout",
     "output_type": "stream",
     "text": [
      "[13, 23, 37, 19, 23, 17, 37, 23]\n"
     ]
    }
   ],
   "source": [
    "## 5 переложить из m_1, m_2, m_3, m_4 только простые числа\n",
    "\n",
    "m_1 = [9, 28, 13, 25, 7, 27, 15, 23, 24, 40]\n",
    "m_2 = [39, 27, 36, 37, 19, 30, 23, 17, 25, 28]\n",
    "m_3 = [37, 5, 9, 8, 6, 33, 34, 28, 14, 12]\n",
    "m_4 = [8, 23, 12, 20, 32, 15, 21, 12, 8, 33]\n",
    "result = []\n",
    "\n",
    "for i in (m_1, m_2, m_3, m_4):\n",
    "    for j in i:\n",
    "        if j % 2 != 0:\n",
    "            if j % 3 != 0:\n",
    "                if j % 5 != 0:\n",
    "                    if j % 7 != 0:\n",
    "                        result.append(j)\n",
    "print(result)"
   ]
  },
  {
   "cell_type": "code",
   "execution_count": 35,
   "metadata": {},
   "outputs": [
    {
     "name": "stdout",
     "output_type": "stream",
     "text": [
      "[[28, 24, 40], [36, 30, 28], [8, 6, 34]]\n"
     ]
    }
   ],
   "source": [
    "#6 составить в result максимально возможную квадратную матрицу из четных\n",
    "\n",
    "m_1 = [9, 28, 13, 25, 7, 27, 15, 23, 24, 40]\n",
    "m_2 = [39, 27, 36, 37, 19, 30, 23, 17, 25, 28]\n",
    "m_3 = [37, 5, 9, 8, 6, 33, 34, 28, 14, 12]\n",
    "m_4 = [8, 23, 12, 20, 32, 15, 21, 12, 8, 33]\n",
    "\n",
    "result = []\n",
    "\n",
    "def odd_el(i):\n",
    "    if i % 2 == 0:\n",
    "        return True\n",
    "    else:\n",
    "        False\n",
    "\n",
    "\n",
    "x = len(list(filter(odd_el, m_1)))\n",
    "y = x\n",
    "\n",
    "for i in [m_1, m_2, m_3, m_4]:\n",
    "    j = list(filter(odd_el, i))[:x]\n",
    "    if len(result) < y:\n",
    "        result.append(j)\n",
    "          \n",
    "\n",
    "            \n",
    "print(result)"
   ]
  }
 ],
 "metadata": {
  "kernelspec": {
   "display_name": "Python 3",
   "language": "python",
   "name": "python3"
  },
  "language_info": {
   "codemirror_mode": {
    "name": "ipython",
    "version": 3
   },
   "file_extension": ".py",
   "mimetype": "text/x-python",
   "name": "python",
   "nbconvert_exporter": "python",
   "pygments_lexer": "ipython3",
   "version": "3.6.5"
  }
 },
 "nbformat": 4,
 "nbformat_minor": 2
}
