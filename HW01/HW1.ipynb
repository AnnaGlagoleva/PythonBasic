{
 "cells": [
  {
   "cell_type": "code",
   "execution_count": 129,
   "metadata": {},
   "outputs": [
    {
     "name": "stdout",
     "output_type": "stream",
     "text": [
      "start =  [1, 2, 3, 4, 5, 6, 8, 9, 10]\n",
      "result = [1, 2, 3, 4, 5, 6, 8, 9, 10]\n"
     ]
    }
   ],
   "source": [
    "#1 переложить сожержимое start в result через цикл for\n",
    "\n",
    "start = [1,2,3,4,5,6,8,9,10]\n",
    "result = []\n",
    "for i in start:\n",
    "    result.append(i)    \n",
    "print(\"start = \", start)\n",
    "print(\"result =\", result)"
   ]
  },
  {
   "cell_type": "code",
   "execution_count": 131,
   "metadata": {},
   "outputs": [
    {
     "name": "stdout",
     "output_type": "stream",
     "text": [
      "start =  [1, 2, 3, 4, 6, 7, 8, 9, 10]\n",
      "result reverse [10, 9, 8, 7, 6, 4, 3, 2, 1]\n"
     ]
    }
   ],
   "source": [
    "#3 переложить сожержимое start в result в обратном порядке через любой цикл\n",
    "\n",
    "start = [1,2,3,4,6,7,8,9,10]\n",
    "result = []\n",
    "for i in reversed(start):\n",
    "        result.append(i)\n",
    "print(\"start = \", start)\n",
    "print(\"result reverse\", result)"
   ]
  },
  {
   "cell_type": "code",
   "execution_count": 357,
   "metadata": {},
   "outputs": [
    {
     "name": "stdout",
     "output_type": "stream",
     "text": [
      "start =  [1, 2, 3, 4, 5, 6, 7, 9, 10]\n",
      "result = [2, 4, 6, 10]\n"
     ]
    }
   ],
   "source": [
    "#4 переложить только четные цифры из start в result через цикл for\n",
    "\n",
    "start = [1,2,3,4,5,6,7,8,9,10]\n",
    "result = []\n",
    "for i in start:\n",
    "    if i % 2 == 0:\n",
    "        result.append(i)    \n",
    "print(\"start = \", start)\n",
    "print(\"result =\", result)"
   ]
  },
  {
   "cell_type": "code",
   "execution_count": 3,
   "metadata": {},
   "outputs": [
    {
     "name": "stdout",
     "output_type": "stream",
     "text": [
      "start =  [1, 2, 4, 5, 6, 7, 8, 9, 10]\n",
      "result = [1, 2, 4, 5, 6, 7, 8, 9, 10]\n"
     ]
    }
   ],
   "source": [
    "#2 переложить сожержимое start в result через цикл while\n",
    "\n",
    "start = [1,2,4,5,6,7,8,9,10]\n",
    "result = []\n",
    "i = 0 \n",
    "while i <= len(start)+1:\n",
    "    if i == i in start:\n",
    "        result.append(i)\n",
    "    i = i + 1\n",
    "    \n",
    "print(\"start = \", start)\n",
    "print(\"result =\", result)"
   ]
  },
  {
   "cell_type": "code",
   "execution_count": null,
   "metadata": {},
   "outputs": [],
   "source": []
  },
  {
   "cell_type": "code",
   "execution_count": 4,
   "metadata": {},
   "outputs": [
    {
     "name": "stdout",
     "output_type": "stream",
     "text": [
      "start =  [1, 2, 3, 4, 5, 6, 7, 8, 9, 10]\n",
      "result = [1, 3, 5, 7, 9]\n"
     ]
    }
   ],
   "source": [
    "#5 переложить только нечетные цифры из start в result через цикл while\n",
    "start = [1,2,3,4,5,6,7,8,9,10]\n",
    "result = []\n",
    "i = 0\n",
    "while i <= len(start):\n",
    "    if i % 2 != 0:\n",
    "        result.append(i)\n",
    "    i = i + 1\n",
    "    \n",
    "print(\"start = \", start)\n",
    "print(\"result =\", result)\n"
   ]
  },
  {
   "cell_type": "code",
   "execution_count": null,
   "metadata": {},
   "outputs": [],
   "source": []
  },
  {
   "cell_type": "code",
   "execution_count": null,
   "metadata": {},
   "outputs": [],
   "source": []
  }
 ],
 "metadata": {
  "kernelspec": {
   "display_name": "Python 3",
   "language": "python",
   "name": "python3"
  },
  "language_info": {
   "codemirror_mode": {
    "name": "ipython",
    "version": 3
   },
   "file_extension": ".py",
   "mimetype": "text/x-python",
   "name": "python",
   "nbconvert_exporter": "python",
   "pygments_lexer": "ipython3",
   "version": "3.6.5"
  }
 },
 "nbformat": 4,
 "nbformat_minor": 2
}
